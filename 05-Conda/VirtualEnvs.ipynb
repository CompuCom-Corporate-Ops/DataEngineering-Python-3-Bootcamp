{
  "nbformat": 4,
  "nbformat_minor": 0,
  "metadata": {
    "colab": {
      "name": "VirtualEnvs.ipynb",
      "provenance": [],
      "collapsed_sections": []
    },
    "kernelspec": {
      "name": "python3",
      "display_name": "Python 3"
    }
  },
  "cells": [
    {
      "cell_type": "markdown",
      "metadata": {
        "id": "_6Dp2g2jNix6",
        "colab_type": "text"
      },
      "source": [
        "### Update the version of conda"
      ]
    },
    {
      "cell_type": "code",
      "metadata": {
        "id": "IHycJ0UqNYfG",
        "colab_type": "code",
        "colab": {}
      },
      "source": [
        "conda update --all"
      ],
      "execution_count": 0,
      "outputs": []
    },
    {
      "cell_type": "markdown",
      "metadata": {
        "id": "aV4P4B_JN3hY",
        "colab_type": "text"
      },
      "source": [
        "### Create a new environment"
      ]
    },
    {
      "cell_type": "code",
      "metadata": {
        "id": "kGKqMCo7N7J8",
        "colab_type": "code",
        "colab": {}
      },
      "source": [
        "conda create -n myenv python=3.7"
      ],
      "execution_count": 0,
      "outputs": []
    },
    {
      "cell_type": "markdown",
      "metadata": {
        "id": "EAu3iXLUN-zv",
        "colab_type": "text"
      },
      "source": [
        "### Activate enviroment"
      ]
    },
    {
      "cell_type": "code",
      "metadata": {
        "id": "ZMNE3NrsOFDk",
        "colab_type": "code",
        "colab": {}
      },
      "source": [
        "conda activate <env_name>"
      ],
      "execution_count": 0,
      "outputs": []
    },
    {
      "cell_type": "markdown",
      "metadata": {
        "id": "UpN4D4DbOK04",
        "colab_type": "text"
      },
      "source": [
        "### List all envs"
      ]
    },
    {
      "cell_type": "code",
      "metadata": {
        "id": "vyia7ZDGONoo",
        "colab_type": "code",
        "colab": {}
      },
      "source": [
        "conda info --envs"
      ],
      "execution_count": 0,
      "outputs": []
    },
    {
      "cell_type": "markdown",
      "metadata": {
        "id": "1NM3TJ63ObNa",
        "colab_type": "text"
      },
      "source": [
        "### Remove enviroment"
      ]
    },
    {
      "cell_type": "code",
      "metadata": {
        "id": "YeOlcmxjOf77",
        "colab_type": "code",
        "colab": {}
      },
      "source": [
        "conda remove -n yourenvname"
      ],
      "execution_count": 0,
      "outputs": []
    }
  ]
}